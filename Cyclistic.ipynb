{
 "cells": [
  {
   "cell_type": "markdown",
   "id": "79d7e32b",
   "metadata": {},
   "source": [
    "# Data analysis with python"
   ]
  },
  {
   "cell_type": "code",
   "execution_count": 1,
   "id": "04abd781",
   "metadata": {},
   "outputs": [],
   "source": [
    "import glob\n",
    "import pandas as pd\n",
    "import seaborn as sns\n",
    "import matplotlib.pyplot as plt\n",
    "import numpy as np\n",
    "df = pd.read_csv('trip_data.csv')"
   ]
  },
  {
   "cell_type": "markdown",
   "id": "ee5f7747",
   "metadata": {},
   "source": [
    "### Understading the data"
   ]
  },
  {
   "cell_type": "code",
   "execution_count": 2,
   "id": "15d61204",
   "metadata": {},
   "outputs": [
    {
     "data": {
      "text/html": [
       "<div>\n",
       "<style scoped>\n",
       "    .dataframe tbody tr th:only-of-type {\n",
       "        vertical-align: middle;\n",
       "    }\n",
       "\n",
       "    .dataframe tbody tr th {\n",
       "        vertical-align: top;\n",
       "    }\n",
       "\n",
       "    .dataframe thead th {\n",
       "        text-align: right;\n",
       "    }\n",
       "</style>\n",
       "<table border=\"1\" class=\"dataframe\">\n",
       "  <thead>\n",
       "    <tr style=\"text-align: right;\">\n",
       "      <th></th>\n",
       "      <th>ride_id</th>\n",
       "      <th>user_type</th>\n",
       "      <th>bike_type</th>\n",
       "      <th>start_station_name</th>\n",
       "      <th>end_station_name</th>\n",
       "      <th>started_at</th>\n",
       "      <th>ended_at</th>\n",
       "      <th>ride_length</th>\n",
       "      <th>week_day</th>\n",
       "    </tr>\n",
       "  </thead>\n",
       "  <tbody>\n",
       "    <tr>\n",
       "      <th>0</th>\n",
       "      <td>0001F6D5CEC173C8</td>\n",
       "      <td>member</td>\n",
       "      <td>docked_bike</td>\n",
       "      <td>Racine Ave &amp; Belmont Ave</td>\n",
       "      <td>Broadway &amp; Cornelia Ave</td>\n",
       "      <td>2020-11-16 20:44:02</td>\n",
       "      <td>2020-11-16 20:50:12</td>\n",
       "      <td>6</td>\n",
       "      <td>2</td>\n",
       "    </tr>\n",
       "    <tr>\n",
       "      <th>1</th>\n",
       "      <td>0002188B9DCE3604</td>\n",
       "      <td>member</td>\n",
       "      <td>classic_bike</td>\n",
       "      <td>Broadway &amp; Belmont Ave</td>\n",
       "      <td>Broadway &amp; Waveland Ave</td>\n",
       "      <td>2020-12-16 20:21:28</td>\n",
       "      <td>2020-12-16 20:27:03</td>\n",
       "      <td>6</td>\n",
       "      <td>4</td>\n",
       "    </tr>\n",
       "    <tr>\n",
       "      <th>2</th>\n",
       "      <td>0002C71847CA5F09</td>\n",
       "      <td>member</td>\n",
       "      <td>docked_bike</td>\n",
       "      <td>Wells St &amp; Hubbard St</td>\n",
       "      <td>Fairbanks St &amp; Superior St</td>\n",
       "      <td>2020-08-26 15:25:49</td>\n",
       "      <td>2020-08-26 15:37:16</td>\n",
       "      <td>12</td>\n",
       "      <td>4</td>\n",
       "    </tr>\n",
       "    <tr>\n",
       "      <th>3</th>\n",
       "      <td>0003E3999EB07A52</td>\n",
       "      <td>member</td>\n",
       "      <td>docked_bike</td>\n",
       "      <td>Sheridan Rd &amp; Noyes St (NU)</td>\n",
       "      <td>Chicago Ave &amp; Dempster St</td>\n",
       "      <td>2020-10-10 15:42:58</td>\n",
       "      <td>2020-10-10 15:58:37</td>\n",
       "      <td>16</td>\n",
       "      <td>7</td>\n",
       "    </tr>\n",
       "    <tr>\n",
       "      <th>4</th>\n",
       "      <td>000412137A67C9D0</td>\n",
       "      <td>casual</td>\n",
       "      <td>docked_bike</td>\n",
       "      <td>Francisco Ave &amp; Foster Ave</td>\n",
       "      <td>Francisco Ave &amp; Foster Ave</td>\n",
       "      <td>2020-11-28 14:59:42</td>\n",
       "      <td>2020-11-28 15:29:59</td>\n",
       "      <td>30</td>\n",
       "      <td>7</td>\n",
       "    </tr>\n",
       "  </tbody>\n",
       "</table>\n",
       "</div>"
      ],
      "text/plain": [
       "            ride_id user_type     bike_type           start_station_name  \\\n",
       "0  0001F6D5CEC173C8    member   docked_bike     Racine Ave & Belmont Ave   \n",
       "1  0002188B9DCE3604    member  classic_bike       Broadway & Belmont Ave   \n",
       "2  0002C71847CA5F09    member   docked_bike        Wells St & Hubbard St   \n",
       "3  0003E3999EB07A52    member   docked_bike  Sheridan Rd & Noyes St (NU)   \n",
       "4  000412137A67C9D0    casual   docked_bike   Francisco Ave & Foster Ave   \n",
       "\n",
       "             end_station_name           started_at             ended_at  \\\n",
       "0     Broadway & Cornelia Ave  2020-11-16 20:44:02  2020-11-16 20:50:12   \n",
       "1     Broadway & Waveland Ave  2020-12-16 20:21:28  2020-12-16 20:27:03   \n",
       "2  Fairbanks St & Superior St  2020-08-26 15:25:49  2020-08-26 15:37:16   \n",
       "3   Chicago Ave & Dempster St  2020-10-10 15:42:58  2020-10-10 15:58:37   \n",
       "4  Francisco Ave & Foster Ave  2020-11-28 14:59:42  2020-11-28 15:29:59   \n",
       "\n",
       "   ride_length  week_day  \n",
       "0            6         2  \n",
       "1            6         4  \n",
       "2           12         4  \n",
       "3           16         7  \n",
       "4           30         7  "
      ]
     },
     "execution_count": 2,
     "metadata": {},
     "output_type": "execute_result"
    }
   ],
   "source": [
    "df.head()"
   ]
  },
  {
   "cell_type": "code",
   "execution_count": 3,
   "id": "0ab9f1f1",
   "metadata": {},
   "outputs": [
    {
     "data": {
      "text/plain": [
       "(1738481, 9)"
      ]
     },
     "execution_count": 3,
     "metadata": {},
     "output_type": "execute_result"
    }
   ],
   "source": [
    "df.shape"
   ]
  },
  {
   "cell_type": "code",
   "execution_count": 4,
   "id": "639f6b71",
   "metadata": {
    "scrolled": true
   },
   "outputs": [
    {
     "data": {
      "text/html": [
       "<div>\n",
       "<style scoped>\n",
       "    .dataframe tbody tr th:only-of-type {\n",
       "        vertical-align: middle;\n",
       "    }\n",
       "\n",
       "    .dataframe tbody tr th {\n",
       "        vertical-align: top;\n",
       "    }\n",
       "\n",
       "    .dataframe thead th {\n",
       "        text-align: right;\n",
       "    }\n",
       "</style>\n",
       "<table border=\"1\" class=\"dataframe\">\n",
       "  <thead>\n",
       "    <tr style=\"text-align: right;\">\n",
       "      <th></th>\n",
       "      <th>ride_length</th>\n",
       "      <th>week_day</th>\n",
       "    </tr>\n",
       "  </thead>\n",
       "  <tbody>\n",
       "    <tr>\n",
       "      <th>count</th>\n",
       "      <td>1738481.00</td>\n",
       "      <td>1738481.00</td>\n",
       "    </tr>\n",
       "    <tr>\n",
       "      <th>mean</th>\n",
       "      <td>22.30</td>\n",
       "      <td>4.17</td>\n",
       "    </tr>\n",
       "    <tr>\n",
       "      <th>std</th>\n",
       "      <td>39.03</td>\n",
       "      <td>2.09</td>\n",
       "    </tr>\n",
       "    <tr>\n",
       "      <th>min</th>\n",
       "      <td>1.00</td>\n",
       "      <td>1.00</td>\n",
       "    </tr>\n",
       "    <tr>\n",
       "      <th>25%</th>\n",
       "      <td>8.00</td>\n",
       "      <td>2.00</td>\n",
       "    </tr>\n",
       "    <tr>\n",
       "      <th>50%</th>\n",
       "      <td>14.00</td>\n",
       "      <td>4.00</td>\n",
       "    </tr>\n",
       "    <tr>\n",
       "      <th>75%</th>\n",
       "      <td>25.00</td>\n",
       "      <td>6.00</td>\n",
       "    </tr>\n",
       "    <tr>\n",
       "      <th>max</th>\n",
       "      <td>1440.00</td>\n",
       "      <td>7.00</td>\n",
       "    </tr>\n",
       "  </tbody>\n",
       "</table>\n",
       "</div>"
      ],
      "text/plain": [
       "       ride_length   week_day\n",
       "count   1738481.00 1738481.00\n",
       "mean         22.30       4.17\n",
       "std          39.03       2.09\n",
       "min           1.00       1.00\n",
       "25%           8.00       2.00\n",
       "50%          14.00       4.00\n",
       "75%          25.00       6.00\n",
       "max        1440.00       7.00"
      ]
     },
     "execution_count": 4,
     "metadata": {},
     "output_type": "execute_result"
    }
   ],
   "source": [
    "pd.options.display.float_format = \"{:.2f}\".format\n",
    "df.describe()"
   ]
  },
  {
   "cell_type": "code",
   "execution_count": 5,
   "id": "292dd38d",
   "metadata": {},
   "outputs": [
    {
     "data": {
      "text/plain": [
       "count     1738481\n",
       "unique          2\n",
       "top        member\n",
       "freq      1034147\n",
       "Name: user_type, dtype: object"
      ]
     },
     "execution_count": 5,
     "metadata": {},
     "output_type": "execute_result"
    }
   ],
   "source": [
    "df['user_type'].describe()"
   ]
  },
  {
   "cell_type": "code",
   "execution_count": 6,
   "id": "3c9488c5",
   "metadata": {},
   "outputs": [
    {
     "data": {
      "text/html": [
       "<div>\n",
       "<style scoped>\n",
       "    .dataframe tbody tr th:only-of-type {\n",
       "        vertical-align: middle;\n",
       "    }\n",
       "\n",
       "    .dataframe tbody tr th {\n",
       "        vertical-align: top;\n",
       "    }\n",
       "\n",
       "    .dataframe thead th {\n",
       "        text-align: right;\n",
       "    }\n",
       "</style>\n",
       "<table border=\"1\" class=\"dataframe\">\n",
       "  <thead>\n",
       "    <tr style=\"text-align: right;\">\n",
       "      <th></th>\n",
       "      <th>ride_length</th>\n",
       "      <th>week_day</th>\n",
       "    </tr>\n",
       "  </thead>\n",
       "  <tbody>\n",
       "    <tr>\n",
       "      <th>count</th>\n",
       "      <td>1034147.00</td>\n",
       "      <td>1034147.00</td>\n",
       "    </tr>\n",
       "    <tr>\n",
       "      <th>mean</th>\n",
       "      <td>14.77</td>\n",
       "      <td>4.11</td>\n",
       "    </tr>\n",
       "    <tr>\n",
       "      <th>std</th>\n",
       "      <td>18.25</td>\n",
       "      <td>1.98</td>\n",
       "    </tr>\n",
       "    <tr>\n",
       "      <th>min</th>\n",
       "      <td>1.00</td>\n",
       "      <td>1.00</td>\n",
       "    </tr>\n",
       "    <tr>\n",
       "      <th>25%</th>\n",
       "      <td>6.00</td>\n",
       "      <td>2.00</td>\n",
       "    </tr>\n",
       "    <tr>\n",
       "      <th>50%</th>\n",
       "      <td>11.00</td>\n",
       "      <td>4.00</td>\n",
       "    </tr>\n",
       "    <tr>\n",
       "      <th>75%</th>\n",
       "      <td>19.00</td>\n",
       "      <td>6.00</td>\n",
       "    </tr>\n",
       "    <tr>\n",
       "      <th>max</th>\n",
       "      <td>1440.00</td>\n",
       "      <td>7.00</td>\n",
       "    </tr>\n",
       "  </tbody>\n",
       "</table>\n",
       "</div>"
      ],
      "text/plain": [
       "       ride_length   week_day\n",
       "count   1034147.00 1034147.00\n",
       "mean         14.77       4.11\n",
       "std          18.25       1.98\n",
       "min           1.00       1.00\n",
       "25%           6.00       2.00\n",
       "50%          11.00       4.00\n",
       "75%          19.00       6.00\n",
       "max        1440.00       7.00"
      ]
     },
     "execution_count": 6,
     "metadata": {},
     "output_type": "execute_result"
    }
   ],
   "source": [
    "df[df['user_type'] =='member'].describe()"
   ]
  },
  {
   "cell_type": "code",
   "execution_count": 7,
   "id": "5fab50a9",
   "metadata": {},
   "outputs": [
    {
     "data": {
      "text/html": [
       "<div>\n",
       "<style scoped>\n",
       "    .dataframe tbody tr th:only-of-type {\n",
       "        vertical-align: middle;\n",
       "    }\n",
       "\n",
       "    .dataframe tbody tr th {\n",
       "        vertical-align: top;\n",
       "    }\n",
       "\n",
       "    .dataframe thead th {\n",
       "        text-align: right;\n",
       "    }\n",
       "</style>\n",
       "<table border=\"1\" class=\"dataframe\">\n",
       "  <thead>\n",
       "    <tr style=\"text-align: right;\">\n",
       "      <th></th>\n",
       "      <th>ride_length</th>\n",
       "      <th>week_day</th>\n",
       "    </tr>\n",
       "  </thead>\n",
       "  <tbody>\n",
       "    <tr>\n",
       "      <th>count</th>\n",
       "      <td>704334.00</td>\n",
       "      <td>704334.00</td>\n",
       "    </tr>\n",
       "    <tr>\n",
       "      <th>mean</th>\n",
       "      <td>33.36</td>\n",
       "      <td>4.26</td>\n",
       "    </tr>\n",
       "    <tr>\n",
       "      <th>std</th>\n",
       "      <td>55.37</td>\n",
       "      <td>2.24</td>\n",
       "    </tr>\n",
       "    <tr>\n",
       "      <th>min</th>\n",
       "      <td>1.00</td>\n",
       "      <td>1.00</td>\n",
       "    </tr>\n",
       "    <tr>\n",
       "      <th>25%</th>\n",
       "      <td>11.00</td>\n",
       "      <td>2.00</td>\n",
       "    </tr>\n",
       "    <tr>\n",
       "      <th>50%</th>\n",
       "      <td>20.00</td>\n",
       "      <td>4.00</td>\n",
       "    </tr>\n",
       "    <tr>\n",
       "      <th>75%</th>\n",
       "      <td>37.00</td>\n",
       "      <td>6.00</td>\n",
       "    </tr>\n",
       "    <tr>\n",
       "      <th>max</th>\n",
       "      <td>1440.00</td>\n",
       "      <td>7.00</td>\n",
       "    </tr>\n",
       "  </tbody>\n",
       "</table>\n",
       "</div>"
      ],
      "text/plain": [
       "       ride_length  week_day\n",
       "count    704334.00 704334.00\n",
       "mean         33.36      4.26\n",
       "std          55.37      2.24\n",
       "min           1.00      1.00\n",
       "25%          11.00      2.00\n",
       "50%          20.00      4.00\n",
       "75%          37.00      6.00\n",
       "max        1440.00      7.00"
      ]
     },
     "execution_count": 7,
     "metadata": {},
     "output_type": "execute_result"
    }
   ],
   "source": [
    "df[df['user_type'] =='casual'].describe()"
   ]
  },
  {
   "cell_type": "markdown",
   "id": "46327724",
   "metadata": {},
   "source": [
    "Descriptive statistics for casual customers have a lower total ride_lenth than member customers, but the 3rd quartile shows that over 75% of casual customers have a much higher ride_length than member customers. On average, customers in the casual group have a 2.7 times higher ride_length"
   ]
  },
  {
   "cell_type": "code",
   "execution_count": 8,
   "id": "67b97b92",
   "metadata": {},
   "outputs": [
    {
     "name": "stdout",
     "output_type": "stream",
     "text": [
      "<class 'pandas.core.frame.DataFrame'>\n",
      "RangeIndex: 1738481 entries, 0 to 1738480\n",
      "Data columns (total 9 columns):\n",
      " #   Column              Dtype \n",
      "---  ------              ----- \n",
      " 0   ride_id             object\n",
      " 1   user_type           object\n",
      " 2   bike_type           object\n",
      " 3   start_station_name  object\n",
      " 4   end_station_name    object\n",
      " 5   started_at          object\n",
      " 6   ended_at            object\n",
      " 7   ride_length         int64 \n",
      " 8   week_day            int64 \n",
      "dtypes: int64(2), object(7)\n",
      "memory usage: 119.4+ MB\n"
     ]
    }
   ],
   "source": [
    "df.info()"
   ]
  },
  {
   "cell_type": "code",
   "execution_count": 9,
   "id": "3e808427",
   "metadata": {},
   "outputs": [
    {
     "data": {
      "text/plain": [
       "ride_id               1738481\n",
       "user_type                   2\n",
       "bike_type                   3\n",
       "start_station_name        679\n",
       "end_station_name          680\n",
       "started_at            1504126\n",
       "ended_at              1491751\n",
       "ride_length              1246\n",
       "week_day                    7\n",
       "dtype: int64"
      ]
     },
     "execution_count": 9,
     "metadata": {},
     "output_type": "execute_result"
    }
   ],
   "source": [
    "df.nunique()"
   ]
  },
  {
   "cell_type": "code",
   "execution_count": 10,
   "id": "b0446c45",
   "metadata": {},
   "outputs": [
    {
     "data": {
      "text/plain": [
       "ride_id               0\n",
       "user_type             0\n",
       "bike_type             0\n",
       "start_station_name    0\n",
       "end_station_name      0\n",
       "started_at            0\n",
       "ended_at              0\n",
       "ride_length           0\n",
       "week_day              0\n",
       "dtype: int64"
      ]
     },
     "execution_count": 10,
     "metadata": {},
     "output_type": "execute_result"
    }
   ],
   "source": [
    "df.isnull().sum()"
   ]
  },
  {
   "cell_type": "code",
   "execution_count": 11,
   "id": "d371a9dc",
   "metadata": {},
   "outputs": [],
   "source": [
    "trip = df.copy()"
   ]
  },
  {
   "cell_type": "code",
   "execution_count": 12,
   "id": "bb73dd7d",
   "metadata": {},
   "outputs": [],
   "source": [
    "#df['Col4'] = (df['Col2'] * df['Col3']).where(df['Col1'] > 0, 0)\n",
    "def product(row):\n",
    "    if 1< row['week_day'] < 7:\n",
    "        return 'weekday'\n",
    "    else:\n",
    "        return'weekend'\n",
    "trip['day_type'] = trip.apply(product, axis=1)\n"
   ]
  },
  {
   "cell_type": "code",
   "execution_count": 13,
   "id": "f2868bf2",
   "metadata": {},
   "outputs": [],
   "source": [
    "#correlation = trip.corr()\n",
    "# sns.heatmap(correlation, xticklabels = correlation.columns, yticklabels = correlation.columns, annot = True)\n",
    "# không cần quan tâm, bước này thừa vì ride_length và week_day không có nhiều relation\n",
    "# sns.pairplot(trip)\n",
    "# sns.relplot(x='ride_length', y='week_day', hue = 'user_type', data=trip)"
   ]
  },
  {
   "cell_type": "markdown",
   "id": "34e4e0de",
   "metadata": {},
   "source": [
    "# Customer difference"
   ]
  },
  {
   "cell_type": "code",
   "execution_count": 14,
   "id": "c56ebc52",
   "metadata": {},
   "outputs": [],
   "source": [
    "import datetime as dt\n",
    "trip['started_at'] = pd.to_datetime(trip['started_at'])"
   ]
  },
  {
   "cell_type": "code",
   "execution_count": 15,
   "id": "57364ba7",
   "metadata": {},
   "outputs": [],
   "source": [
    "trip['month'] = trip['started_at'].dt.month\n",
    "trip['year'] = trip['started_at'].dt.year\n",
    "#trip['month_year'] = trip['month'].map(str) + '-' + trip['year'].map(str)"
   ]
  },
  {
   "cell_type": "code",
   "execution_count": 16,
   "id": "8b757f38",
   "metadata": {},
   "outputs": [
    {
     "data": {
      "text/html": [
       "<div>\n",
       "<style scoped>\n",
       "    .dataframe tbody tr th:only-of-type {\n",
       "        vertical-align: middle;\n",
       "    }\n",
       "\n",
       "    .dataframe tbody tr th {\n",
       "        vertical-align: top;\n",
       "    }\n",
       "\n",
       "    .dataframe thead th {\n",
       "        text-align: right;\n",
       "    }\n",
       "</style>\n",
       "<table border=\"1\" class=\"dataframe\">\n",
       "  <thead>\n",
       "    <tr style=\"text-align: right;\">\n",
       "      <th></th>\n",
       "      <th>ride_id</th>\n",
       "      <th>user_type</th>\n",
       "      <th>bike_type</th>\n",
       "      <th>start_station_name</th>\n",
       "      <th>end_station_name</th>\n",
       "      <th>started_at</th>\n",
       "      <th>ended_at</th>\n",
       "      <th>ride_length</th>\n",
       "      <th>week_day</th>\n",
       "      <th>day_type</th>\n",
       "      <th>month</th>\n",
       "      <th>year</th>\n",
       "    </tr>\n",
       "  </thead>\n",
       "  <tbody>\n",
       "    <tr>\n",
       "      <th>0</th>\n",
       "      <td>0001F6D5CEC173C8</td>\n",
       "      <td>member</td>\n",
       "      <td>docked_bike</td>\n",
       "      <td>Racine Ave &amp; Belmont Ave</td>\n",
       "      <td>Broadway &amp; Cornelia Ave</td>\n",
       "      <td>2020-11-16 20:44:02</td>\n",
       "      <td>2020-11-16 20:50:12</td>\n",
       "      <td>6</td>\n",
       "      <td>2</td>\n",
       "      <td>weekday</td>\n",
       "      <td>11</td>\n",
       "      <td>2020</td>\n",
       "    </tr>\n",
       "    <tr>\n",
       "      <th>1</th>\n",
       "      <td>0002188B9DCE3604</td>\n",
       "      <td>member</td>\n",
       "      <td>classic_bike</td>\n",
       "      <td>Broadway &amp; Belmont Ave</td>\n",
       "      <td>Broadway &amp; Waveland Ave</td>\n",
       "      <td>2020-12-16 20:21:28</td>\n",
       "      <td>2020-12-16 20:27:03</td>\n",
       "      <td>6</td>\n",
       "      <td>4</td>\n",
       "      <td>weekday</td>\n",
       "      <td>12</td>\n",
       "      <td>2020</td>\n",
       "    </tr>\n",
       "    <tr>\n",
       "      <th>2</th>\n",
       "      <td>0002C71847CA5F09</td>\n",
       "      <td>member</td>\n",
       "      <td>docked_bike</td>\n",
       "      <td>Wells St &amp; Hubbard St</td>\n",
       "      <td>Fairbanks St &amp; Superior St</td>\n",
       "      <td>2020-08-26 15:25:49</td>\n",
       "      <td>2020-08-26 15:37:16</td>\n",
       "      <td>12</td>\n",
       "      <td>4</td>\n",
       "      <td>weekday</td>\n",
       "      <td>8</td>\n",
       "      <td>2020</td>\n",
       "    </tr>\n",
       "    <tr>\n",
       "      <th>3</th>\n",
       "      <td>0003E3999EB07A52</td>\n",
       "      <td>member</td>\n",
       "      <td>docked_bike</td>\n",
       "      <td>Sheridan Rd &amp; Noyes St (NU)</td>\n",
       "      <td>Chicago Ave &amp; Dempster St</td>\n",
       "      <td>2020-10-10 15:42:58</td>\n",
       "      <td>2020-10-10 15:58:37</td>\n",
       "      <td>16</td>\n",
       "      <td>7</td>\n",
       "      <td>weekend</td>\n",
       "      <td>10</td>\n",
       "      <td>2020</td>\n",
       "    </tr>\n",
       "    <tr>\n",
       "      <th>4</th>\n",
       "      <td>000412137A67C9D0</td>\n",
       "      <td>casual</td>\n",
       "      <td>docked_bike</td>\n",
       "      <td>Francisco Ave &amp; Foster Ave</td>\n",
       "      <td>Francisco Ave &amp; Foster Ave</td>\n",
       "      <td>2020-11-28 14:59:42</td>\n",
       "      <td>2020-11-28 15:29:59</td>\n",
       "      <td>30</td>\n",
       "      <td>7</td>\n",
       "      <td>weekend</td>\n",
       "      <td>11</td>\n",
       "      <td>2020</td>\n",
       "    </tr>\n",
       "    <tr>\n",
       "      <th>...</th>\n",
       "      <td>...</td>\n",
       "      <td>...</td>\n",
       "      <td>...</td>\n",
       "      <td>...</td>\n",
       "      <td>...</td>\n",
       "      <td>...</td>\n",
       "      <td>...</td>\n",
       "      <td>...</td>\n",
       "      <td>...</td>\n",
       "      <td>...</td>\n",
       "      <td>...</td>\n",
       "      <td>...</td>\n",
       "    </tr>\n",
       "    <tr>\n",
       "      <th>1738476</th>\n",
       "      <td>FFFF3DD0C2650C65</td>\n",
       "      <td>member</td>\n",
       "      <td>docked_bike</td>\n",
       "      <td>Desplaines St &amp; Kinzie St</td>\n",
       "      <td>Mies van der Rohe Way &amp; Chicago Ave</td>\n",
       "      <td>2020-08-26 18:37:28</td>\n",
       "      <td>2020-08-26 18:52:45</td>\n",
       "      <td>15</td>\n",
       "      <td>4</td>\n",
       "      <td>weekday</td>\n",
       "      <td>8</td>\n",
       "      <td>2020</td>\n",
       "    </tr>\n",
       "    <tr>\n",
       "      <th>1738477</th>\n",
       "      <td>FFFF3DE4429CC609</td>\n",
       "      <td>member</td>\n",
       "      <td>electric_bike</td>\n",
       "      <td>Clark St &amp; Bryn Mawr Ave</td>\n",
       "      <td>Clarendon Ave &amp; Junior Ter</td>\n",
       "      <td>2020-09-04 17:05:39</td>\n",
       "      <td>2020-09-04 17:17:24</td>\n",
       "      <td>12</td>\n",
       "      <td>6</td>\n",
       "      <td>weekday</td>\n",
       "      <td>9</td>\n",
       "      <td>2020</td>\n",
       "    </tr>\n",
       "    <tr>\n",
       "      <th>1738478</th>\n",
       "      <td>FFFF7E23D2915E21</td>\n",
       "      <td>casual</td>\n",
       "      <td>docked_bike</td>\n",
       "      <td>Wells St &amp; Huron St</td>\n",
       "      <td>Sheridan Rd &amp; Noyes St (NU)</td>\n",
       "      <td>2020-08-21 10:00:46</td>\n",
       "      <td>2020-08-21 11:47:56</td>\n",
       "      <td>107</td>\n",
       "      <td>6</td>\n",
       "      <td>weekday</td>\n",
       "      <td>8</td>\n",
       "      <td>2020</td>\n",
       "    </tr>\n",
       "    <tr>\n",
       "      <th>1738479</th>\n",
       "      <td>FFFF9BD5C4157AAE</td>\n",
       "      <td>member</td>\n",
       "      <td>docked_bike</td>\n",
       "      <td>Warren Park East</td>\n",
       "      <td>2112 W Peterson Ave</td>\n",
       "      <td>2020-11-05 05:25:50</td>\n",
       "      <td>2020-11-05 05:41:41</td>\n",
       "      <td>16</td>\n",
       "      <td>5</td>\n",
       "      <td>weekday</td>\n",
       "      <td>11</td>\n",
       "      <td>2020</td>\n",
       "    </tr>\n",
       "    <tr>\n",
       "      <th>1738480</th>\n",
       "      <td>FFFFA2109C39B29A</td>\n",
       "      <td>member</td>\n",
       "      <td>docked_bike</td>\n",
       "      <td>Ashland Ave &amp; Chicago Ave</td>\n",
       "      <td>Leavitt St &amp; Chicago Ave</td>\n",
       "      <td>2020-10-22 17:36:44</td>\n",
       "      <td>2020-10-22 17:42:02</td>\n",
       "      <td>6</td>\n",
       "      <td>5</td>\n",
       "      <td>weekday</td>\n",
       "      <td>10</td>\n",
       "      <td>2020</td>\n",
       "    </tr>\n",
       "  </tbody>\n",
       "</table>\n",
       "<p>1738481 rows × 12 columns</p>\n",
       "</div>"
      ],
      "text/plain": [
       "                  ride_id user_type      bike_type  \\\n",
       "0        0001F6D5CEC173C8    member    docked_bike   \n",
       "1        0002188B9DCE3604    member   classic_bike   \n",
       "2        0002C71847CA5F09    member    docked_bike   \n",
       "3        0003E3999EB07A52    member    docked_bike   \n",
       "4        000412137A67C9D0    casual    docked_bike   \n",
       "...                   ...       ...            ...   \n",
       "1738476  FFFF3DD0C2650C65    member    docked_bike   \n",
       "1738477  FFFF3DE4429CC609    member  electric_bike   \n",
       "1738478  FFFF7E23D2915E21    casual    docked_bike   \n",
       "1738479  FFFF9BD5C4157AAE    member    docked_bike   \n",
       "1738480  FFFFA2109C39B29A    member    docked_bike   \n",
       "\n",
       "                  start_station_name                     end_station_name  \\\n",
       "0           Racine Ave & Belmont Ave              Broadway & Cornelia Ave   \n",
       "1             Broadway & Belmont Ave              Broadway & Waveland Ave   \n",
       "2              Wells St & Hubbard St           Fairbanks St & Superior St   \n",
       "3        Sheridan Rd & Noyes St (NU)            Chicago Ave & Dempster St   \n",
       "4         Francisco Ave & Foster Ave           Francisco Ave & Foster Ave   \n",
       "...                              ...                                  ...   \n",
       "1738476    Desplaines St & Kinzie St  Mies van der Rohe Way & Chicago Ave   \n",
       "1738477     Clark St & Bryn Mawr Ave           Clarendon Ave & Junior Ter   \n",
       "1738478          Wells St & Huron St          Sheridan Rd & Noyes St (NU)   \n",
       "1738479             Warren Park East                  2112 W Peterson Ave   \n",
       "1738480    Ashland Ave & Chicago Ave             Leavitt St & Chicago Ave   \n",
       "\n",
       "                 started_at             ended_at  ride_length  week_day  \\\n",
       "0       2020-11-16 20:44:02  2020-11-16 20:50:12            6         2   \n",
       "1       2020-12-16 20:21:28  2020-12-16 20:27:03            6         4   \n",
       "2       2020-08-26 15:25:49  2020-08-26 15:37:16           12         4   \n",
       "3       2020-10-10 15:42:58  2020-10-10 15:58:37           16         7   \n",
       "4       2020-11-28 14:59:42  2020-11-28 15:29:59           30         7   \n",
       "...                     ...                  ...          ...       ...   \n",
       "1738476 2020-08-26 18:37:28  2020-08-26 18:52:45           15         4   \n",
       "1738477 2020-09-04 17:05:39  2020-09-04 17:17:24           12         6   \n",
       "1738478 2020-08-21 10:00:46  2020-08-21 11:47:56          107         6   \n",
       "1738479 2020-11-05 05:25:50  2020-11-05 05:41:41           16         5   \n",
       "1738480 2020-10-22 17:36:44  2020-10-22 17:42:02            6         5   \n",
       "\n",
       "        day_type  month  year  \n",
       "0        weekday     11  2020  \n",
       "1        weekday     12  2020  \n",
       "2        weekday      8  2020  \n",
       "3        weekend     10  2020  \n",
       "4        weekend     11  2020  \n",
       "...          ...    ...   ...  \n",
       "1738476  weekday      8  2020  \n",
       "1738477  weekday      9  2020  \n",
       "1738478  weekday      8  2020  \n",
       "1738479  weekday     11  2020  \n",
       "1738480  weekday     10  2020  \n",
       "\n",
       "[1738481 rows x 12 columns]"
      ]
     },
     "execution_count": 16,
     "metadata": {},
     "output_type": "execute_result"
    }
   ],
   "source": [
    "trip"
   ]
  },
  {
   "cell_type": "code",
   "execution_count": 17,
   "id": "bf78c908",
   "metadata": {},
   "outputs": [
    {
     "data": {
      "text/plain": [
       "Text(0, 0.5, '')"
      ]
     },
     "execution_count": 17,
     "metadata": {},
     "output_type": "execute_result"
    },
    {
     "data": {
      "image/png": "[encoded data removed]",
      "text/plain": [
       "<Figure size 432x288 with 1 Axes>"
      ]
     },
     "metadata": {},
     "output_type": "display_data"
    }
   ],
   "source": [
    "trip.groupby('user_type')['user_type'].count().plot(kind = 'pie', autopct='%7.9f%%')\n",
    "plt.title('Proportion of casual rides vs members rides')\n",
    "plt.ylabel(\"\")"
   ]
  },
  {
   "cell_type": "code",
   "execution_count": 18,
   "id": "7274bba0",
   "metadata": {
    "scrolled": false
   },
   "outputs": [
    {
     "data": {
      "text/plain": [
       "<AxesSubplot:xlabel='user_type', ylabel='ride_length'>"
      ]
     },
     "execution_count": 18,
     "metadata": {},
     "output_type": "execute_result"
    },
    {
     "data": {
      "image/png": "[encoded data removed]",
      "text/plain": [
       "<Figure size 432x288 with 1 Axes>"
      ]
     },
     "metadata": {},
     "output_type": "display_data"
    }
   ],
   "source": [
    "sns.set_style('whitegrid')\n",
    "sns.barplot(x='user_type', y ='ride_length', estimator=np.mean, data=trip)"
   ]
  },
  {
   "cell_type": "raw",
   "id": "b487e574",
   "metadata": {},
   "source": [
    "The proportion of customers in the casual group accounts for 41% of the total data, on average, casual customers spend 2.7 times more time using bicycles than member customers."
   ]
  },
  {
   "cell_type": "code",
   "execution_count": 19,
   "id": "a1dd541d",
   "metadata": {},
   "outputs": [],
   "source": [
    "trip_orderedbymonth =trip.sort_values('month')"
   ]
  },
  {
   "cell_type": "code",
   "execution_count": 20,
   "id": "fcd4f889",
   "metadata": {
    "scrolled": false
   },
   "outputs": [
    {
     "data": {
      "text/plain": [
       "<AxesSubplot:xlabel='month', ylabel='ride_length'>"
      ]
     },
     "execution_count": 20,
     "metadata": {},
     "output_type": "execute_result"
    },
    {
     "data": {
      "image/png": "[encoded data removed]",
      "text/plain": [
       "<Figure size 432x288 with 1 Axes>"
      ]
     },
     "metadata": {},
     "output_type": "display_data"
    }
   ],
   "source": [
    "sns.set_theme(style=\"whitegrid\")\n",
    "sns.lineplot(data=trip_orderedbymonth, x=\"month\", y=\"ride_length\", hue= 'user_type')"
   ]
  },
  {
   "cell_type": "markdown",
   "id": "9a805a0e",
   "metadata": {},
   "source": [
    "In general, the average cycling time decreased over time, but the average cycling time of the casual customer group fluctuated more than the member group. It is possible to withdraw the group of casual customers who sometimes use bicycles to move, the travel time is longer than the member customer group."
   ]
  },
  {
   "cell_type": "code",
   "execution_count": 21,
   "id": "9ac74567",
   "metadata": {
    "scrolled": true
   },
   "outputs": [
    {
     "data": {
      "text/plain": [
       "<seaborn.axisgrid.FacetGrid at 0x14533d3b9a0>"
      ]
     },
     "execution_count": 21,
     "metadata": {},
     "output_type": "execute_result"
    },
    {
     "data": {
      "image/png": "[encoded data removed]",
      "text/plain": [
       "<Figure size 440.35x360 with 1 Axes>"
      ]
     },
     "metadata": {},
     "output_type": "display_data"
    }
   ],
   "source": [
    "sns.displot(data = trip, x = 'day_type', hue = 'user_type')"
   ]
  },
  {
   "cell_type": "code",
   "execution_count": 22,
   "id": "b035ef77",
   "metadata": {
    "scrolled": true
   },
   "outputs": [
    {
     "data": {
      "text/plain": [
       "<AxesSubplot:xlabel='week_day', ylabel='count'>"
      ]
     },
     "execution_count": 22,
     "metadata": {},
     "output_type": "execute_result"
    },
    {
     "data": {
      "image/png": "[encoded data removed]",
      "text/plain": [
       "<Figure size 432x288 with 1 Axes>"
      ]
     },
     "metadata": {},
     "output_type": "display_data"
    }
   ],
   "source": [
    "sns.set_style('whitegrid')\n",
    "sns.countplot(x='week_day', hue ='user_type', data=trip )"
   ]
  },
  {
   "cell_type": "markdown",
   "id": "0acf87ba",
   "metadata": {},
   "source": [
    "Customer group members use Cyclistic regularly on the same days of the week. The casual customer group is less likely to use the service on weekdays, nearly 50% lower than the member customers; Using spikes on weekends, there is a little higher in using times than the member customer group."
   ]
  },
  {
   "cell_type": "markdown",
   "id": "7b423fe8",
   "metadata": {},
   "source": [
    "## Key takes away\n",
    "- Casual: This group of customers accounts for nearly 41% of the total data, with an average of 2.7 times longer cycling time than member customers. Usually use the service on weekends compared to weekdays. They may be newcomers to the area or tourists, unfamiliar with the city's topography. Are slowpace riders, roaming to enjoy the view or get used to the city terrain\n",
    "- Member: These are customers might be who are familiar with the city's terrain, are residents who are working or going to school. Usually used on weekdays, because of familiarity with the terrain, the trajectory is usually short and straight\n"
   ]
  },
  {
   "cell_type": "markdown",
   "id": "04e6550d",
   "metadata": {},
   "source": [
    "# Ride preference"
   ]
  },
  {
   "cell_type": "code",
   "execution_count": 23,
   "id": "b0c12302",
   "metadata": {},
   "outputs": [
    {
     "data": {
      "text/plain": [
       "count         1738481\n",
       "unique              3\n",
       "top       docked_bike\n",
       "freq          1330885\n",
       "Name: bike_type, dtype: object"
      ]
     },
     "execution_count": 23,
     "metadata": {},
     "output_type": "execute_result"
    }
   ],
   "source": [
    "trip['bike_type'].describe()"
   ]
  },
  {
   "cell_type": "code",
   "execution_count": 24,
   "id": "35a1e80e",
   "metadata": {
    "scrolled": true
   },
   "outputs": [
    {
     "data": {
      "text/plain": [
       "array(['docked_bike', 'classic_bike', 'electric_bike'], dtype=object)"
      ]
     },
     "execution_count": 24,
     "metadata": {},
     "output_type": "execute_result"
    }
   ],
   "source": [
    "trip['bike_type'].unique()"
   ]
  },
  {
   "cell_type": "code",
   "execution_count": 25,
   "id": "be49ba64",
   "metadata": {
    "scrolled": true
   },
   "outputs": [
    {
     "data": {
      "text/plain": [
       "<AxesSubplot:xlabel='bike_type', ylabel='count'>"
      ]
     },
     "execution_count": 25,
     "metadata": {},
     "output_type": "execute_result"
    },
    {
     "data": {
      "image/png": "[encoded data removed]",
      "text/plain": [
       "<Figure size 432x288 with 1 Axes>"
      ]
     },
     "metadata": {},
     "output_type": "display_data"
    }
   ],
   "source": [
    "sns.set_style('whitegrid')\n",
    "sns.countplot(x='bike_type', hue ='user_type', data=trip )"
   ]
  },
  {
   "cell_type": "raw",
   "id": "849d9534",
   "metadata": {},
   "source": [
    "In general, both member and casual customers use docked_bike more than the rest of the bikes. Classic_bike is the one with the least number of users."
   ]
  },
  {
   "cell_type": "code",
   "execution_count": 26,
   "id": "2847d69f",
   "metadata": {},
   "outputs": [
    {
     "data": {
      "image/png": "[encoded data removed]",
      "text/plain": [
       "<Figure size 685.15x288 with 3 Axes>"
      ]
     },
     "metadata": {},
     "output_type": "display_data"
    }
   ],
   "source": [
    "sns.set_theme(style=\"whitegrid\")\n",
    "sns.catplot(x=\"month\", hue=\"user_type\", col=\"bike_type\",\n",
    "                data=trip_orderedbymonth, kind=\"count\",\n",
    "                height=4, aspect=.7);"
   ]
  },
  {
   "cell_type": "raw",
   "id": "ab0cc8d1",
   "metadata": {},
   "source": [
    "Over time, both types of customers tend to use docked_bike less, almost do not use this type of bike in December. Electric_bike usage trend is up, but decreases in November and May. 12 and almost no one uses classic_bike, only member customers use it a lot in December. The reason for the decrease in the number of docked_bike and bike_type usage in December is that customers rarely use bicycles. To move in winter, a part of customers still keep the habit of moving and this season often use classic_bike for better body excersise than the other 2 types of bicycles."
   ]
  },
  {
   "cell_type": "markdown",
   "id": "a0f7e5a9",
   "metadata": {},
   "source": [
    "# Recommendations"
   ]
  },
  {
   "cell_type": "markdown",
   "id": "01c41eb5",
   "metadata": {},
   "source": [
    "The data provided is still insufficient to confirm the hypotheses. But based on that we can make some suggestions for the time being.\n",
    "- Special promotion for customers who are members on weekends, discount based on rental hours...\n",
    "- Strengthen bicycle rental points at some famous tourist spots to attract tourists.\n",
    "- Reduce the number of docked_bike rentals, increase the number of electric_bikes. If there is a problem with inventory, additional benefits for customers members can freely choose the type of bike they want.The number of classic_bike rentals can be slightly increased in November and December to serve loyal customers\n"
   ]
  },
  {
   "cell_type": "code",
   "execution_count": null,
   "id": "a358442c",
   "metadata": {},
   "outputs": [],
   "source": []
  }
 ],
 "metadata": {
  "kernelspec": {
   "display_name": "Python 3",
   "language": "python",
   "name": "python3"
  },
  "language_info": {
   "codemirror_mode": {
    "name": "ipython",
    "version": 3
   },
   "file_extension": ".py",
   "mimetype": "text/x-python",
   "name": "python",
   "nbconvert_exporter": "python",
   "pygments_lexer": "ipython3",
   "version": "3.8.8"
  }
 },
 "nbformat": 4,
 "nbformat_minor": 5
}
